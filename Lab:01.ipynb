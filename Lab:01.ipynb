{
  "nbformat": 4,
  "nbformat_minor": 0,
  "metadata": {
    "colab": {
      "provenance": [],
      "authorship_tag": "ABX9TyN116bUGG/j0ZWomacCDLk/",
      "include_colab_link": true
    },
    "kernelspec": {
      "name": "python3",
      "display_name": "Python 3"
    },
    "language_info": {
      "name": "python"
    }
  },
  "cells": [
    {
      "cell_type": "markdown",
      "metadata": {
        "id": "view-in-github",
        "colab_type": "text"
      },
      "source": [
        "<a href=\"https://colab.research.google.com/github/2303A51462/AIML-2025/blob/main/Lab%3A01.ipynb\" target=\"_parent\"><img src=\"https://colab.research.google.com/assets/colab-badge.svg\" alt=\"Open In Colab\"/></a>"
      ]
    },
    {
      "cell_type": "markdown",
      "source": [
        "Lab-01:Introduction to Python,matplotlib,Numpy"
      ],
      "metadata": {
        "id": "UrBzqcoovzQE"
      }
    },
    {
      "cell_type": "markdown",
      "source": [
        "Part 1: Implement basic data structures using Numpy, Pandas\n",
        "\n"
      ],
      "metadata": {
        "id": "6THhzP97v2RG"
      }
    },
    {
      "cell_type": "code",
      "source": [
        "import numpy as np\n",
        "import matplotlib.pyplot as plt\n",
        "import pandas as pd\n",
        "\n",
        "list1 = [1,2,3,4]\n",
        "array1 = np.array(list1)\n",
        "array1\n",
        "array2=np.array([1,2,3,4])\n",
        "list, array1,array2"
      ],
      "metadata": {
        "colab": {
          "base_uri": "https://localhost:8080/"
        },
        "id": "BSr335j-v6TR",
        "outputId": "385d3fa5-5c8c-4e57-a445-ac9064e40f10"
      },
      "execution_count": null,
      "outputs": [
        {
          "output_type": "execute_result",
          "data": {
            "text/plain": [
              "(list, array([1, 2, 3, 4]), array([1, 2, 3, 4]))"
            ]
          },
          "metadata": {},
          "execution_count": 1
        }
      ]
    },
    {
      "cell_type": "code",
      "source": [
        "## Identify the type of data structure\n",
        "type(list1), type(array1), type(array2)\n"
      ],
      "metadata": {
        "colab": {
          "base_uri": "https://localhost:8080/"
        },
        "id": "Z03c5D0GwDwM",
        "outputId": "601fbc02-692f-4475-bc1c-fd9434bd138e"
      },
      "execution_count": null,
      "outputs": [
        {
          "output_type": "execute_result",
          "data": {
            "text/plain": [
              "(list, numpy.ndarray, numpy.ndarray)"
            ]
          },
          "metadata": {},
          "execution_count": 2
        }
      ]
    },
    {
      "cell_type": "code",
      "source": [
        "## Perform Mathematical operations on arrays, lists\n",
        "print(\"Adding two arrays: \",array1 +array2)\n",
        "print(\"Substracting two arrays:\", array1-array2)\n",
        "print(\"Multiplying two arrays: \",array1*array2)\n",
        "print(\"Dividing two arrays: \",array1/array2)\n",
        "print(\"Exponentiating two arrays: \",array1**array2)\n",
        "print(\"Multiply array to list: \",array2*list1)"
      ],
      "metadata": {
        "colab": {
          "base_uri": "https://localhost:8080/"
        },
        "id": "e58VJgTawF6U",
        "outputId": "4131f590-2769-4d54-ed92-c0da7798a199"
      },
      "execution_count": null,
      "outputs": [
        {
          "output_type": "stream",
          "name": "stdout",
          "text": [
            "Adding two arrays:  [2 4 6 8]\n",
            "Substracting two arrays: [0 0 0 0]\n",
            "Multiplying two arrays:  [ 1  4  9 16]\n",
            "Dividing two arrays:  [1. 1. 1. 1.]\n",
            "Exponentiating two arrays:  [  1   4  27 256]\n",
            "Multiply array to list:  [ 1  4  9 16]\n"
          ]
        }
      ]
    },
    {
      "cell_type": "code",
      "source": [
        "#Combine text with Numpy function\n",
        "print(f\"Adding {array1} with {array2}\")\n",
        "print(f\"Result: {np.add(array1, array2)}\")"
      ],
      "metadata": {
        "colab": {
          "base_uri": "https://localhost:8080/"
        },
        "id": "M_rZBjX6wN5U",
        "outputId": "b9b5fcef-b5fe-4d1a-99a0-56f550093a98"
      },
      "execution_count": null,
      "outputs": [
        {
          "output_type": "stream",
          "name": "stdout",
          "text": [
            "Adding [1 2 3 4] with [1 2 3 4]\n",
            "Result: [2 4 6 8]\n"
          ]
        }
      ]
    },
    {
      "cell_type": "code",
      "source": [
        "#Find the Sin, Log, Log2, Exp values\n",
        "print(f\"sin value of array1:{np.sin(array1)}\")\n",
        "print(f\"Log value of array1:{np.log(array1)}\")\n",
        "print(f\"Log base 2 value of array1:{np.log2(array1)}\")\n",
        "print(f\"Log base 10 value of array1:{np.log10(array1)}\")\n",
        "print(f\"Exponential value of array1:{np.exp(array1)}\")"
      ],
      "metadata": {
        "colab": {
          "base_uri": "https://localhost:8080/"
        },
        "id": "lwvhmJWKwPhh",
        "outputId": "37d73e44-ce32-4d76-eece-fb8a00bee10a"
      },
      "execution_count": null,
      "outputs": [
        {
          "output_type": "stream",
          "name": "stdout",
          "text": [
            "sin value of array1:[ 0.84147098  0.90929743  0.14112001 -0.7568025 ]\n",
            "Log value of array1:[0.         0.69314718 1.09861229 1.38629436]\n",
            "Log base 2 value of array1:[0.        1.        1.5849625 2.       ]\n",
            "Log base 10 value of array1:[0.         0.30103    0.47712125 0.60205999]\n",
            "Exponential value of array1:[ 2.71828183  7.3890561  20.08553692 54.59815003]\n"
          ]
        }
      ]
    },
    {
      "cell_type": "markdown",
      "source": [
        "Part 2: Visualize the datasets using matplotlib libraries\n",
        "\n",
        "\n"
      ],
      "metadata": {
        "id": "51HNW4FM6wRz"
      }
    },
    {
      "cell_type": "code",
      "source": [
        "\n",
        "#Create the DataSet\n",
        "people = ['ajay','varun','akash','arun','arjun']\n",
        "age = [23,24,25,18,28]\n",
        "weight = [70,71,72,73,74]\n",
        "height = [170,171,172,174,175]\n",
        "\n"
      ],
      "metadata": {
        "id": "khTDaDi66-nb"
      },
      "execution_count": 1,
      "outputs": []
    },
    {
      "cell_type": "code",
      "source": [
        "import matplotlib.pyplot as plt"
      ],
      "metadata": {
        "id": "ADaTJhIN7n0w"
      },
      "execution_count": 3,
      "outputs": []
    },
    {
      "cell_type": "code",
      "source": [
        "#Find the relationship between weight to height\n",
        "#generate a scatter plot to visualize the relationship\n",
        "plt.scatter(weight, height)\n",
        "plt.xlabel('weight')\n",
        "plt.ylabel('height')\n",
        "plt.title('Weight vs Height')\n",
        "plt.show()"
      ],
      "metadata": {
        "colab": {
          "base_uri": "https://localhost:8080/",
          "height": 472
        },
        "id": "Vg8v1Oaf7uCu",
        "outputId": "61b7cd40-2891-47c9-c720-8d978f2a6826"
      },
      "execution_count": 4,
      "outputs": [
        {
          "output_type": "display_data",
          "data": {
            "text/plain": [
              "<Figure size 640x480 with 1 Axes>"
            ],
            "image/png": "[encoded data removed]"
          },
          "metadata": {}
        }
      ]
    },
    {
      "cell_type": "code",
      "source": [
        "#generate the bar chart for people to their weight\n",
        "plt.figure(figsize=(5,4))\n",
        "plt.bar(people, weight)\n",
        "plt.xlabel('people')\n",
        "plt.ylabel('weight')\n",
        "plt.title('people vs weight')\n",
        "plt.show()\n"
      ],
      "metadata": {
        "colab": {
          "base_uri": "https://localhost:8080/",
          "height": 410
        },
        "id": "y-85nsXQ7yId",
        "outputId": "e0ba66d1-c553-46f9-85d5-006e7839bd36"
      },
      "execution_count": 5,
      "outputs": [
        {
          "output_type": "display_data",
          "data": {
            "text/plain": [
              "<Figure size 500x400 with 1 Axes>"
            ],
            "image/png": "[encoded data removed]"
          },
          "metadata": {}
        }
      ]
    },
    {
      "cell_type": "code",
      "source": [
        "#Generate the Histogram between people age to their Height\n",
        "plt.figure(figsize=(5,4))\n",
        "plt.hist(weight, height)\n",
        "plt.xlabel('weight')\n",
        "plt.ylabel('Height')\n",
        "plt.title('Weight vs Height')\n",
        "plt.show()"
      ],
      "metadata": {
        "colab": {
          "base_uri": "https://localhost:8080/",
          "height": 410
        },
        "id": "khFFkfmc74u_",
        "outputId": "e7c26b8f-f1ec-4b8d-ad17-aeeea818bd3b"
      },
      "execution_count": 6,
      "outputs": [
        {
          "output_type": "display_data",
          "data": {
            "text/plain": [
              "<Figure size 500x400 with 1 Axes>"
            ],
            "image/png": "[encoded data removed]"
          },
          "metadata": {}
        }
      ]
    },
    {
      "cell_type": "markdown",
      "source": [
        "Part 3: Access Data from Data Source"
      ],
      "metadata": {
        "id": "irISvs-T8PRx"
      }
    },
    {
      "cell_type": "code",
      "source": [
        "df=pd.read_table(\"data2.txt\")\n",
        "df\n"
      ],
      "metadata": {
        "colab": {
          "base_uri": "https://localhost:8080/",
          "height": 158
        },
        "id": "PEDnLAqH8X5e",
        "outputId": "4230b5cc-7f9d-4a60-f573-df020bd28402"
      },
      "execution_count": 7,
      "outputs": [
        {
          "output_type": "error",
          "ename": "NameError",
          "evalue": "name 'pd' is not defined",
          "traceback": [
            "\u001b[0;31m---------------------------------------------------------------------------\u001b[0m",
            "\u001b[0;31mNameError\u001b[0m                                 Traceback (most recent call last)",
            "\u001b[0;32m<ipython-input-7-62efa782e695>\u001b[0m in \u001b[0;36m<cell line: 1>\u001b[0;34m()\u001b[0m\n\u001b[0;32m----> 1\u001b[0;31m \u001b[0mdf\u001b[0m\u001b[0;34m=\u001b[0m\u001b[0mpd\u001b[0m\u001b[0;34m.\u001b[0m\u001b[0mread_table\u001b[0m\u001b[0;34m(\u001b[0m\u001b[0;34m\"data2.txt\"\u001b[0m\u001b[0;34m)\u001b[0m\u001b[0;34m\u001b[0m\u001b[0;34m\u001b[0m\u001b[0m\n\u001b[0m\u001b[1;32m      2\u001b[0m \u001b[0mdf\u001b[0m\u001b[0;34m\u001b[0m\u001b[0;34m\u001b[0m\u001b[0m\n",
            "\u001b[0;31mNameError\u001b[0m: name 'pd' is not defined"
          ]
        }
      ]
    }
  ]
}