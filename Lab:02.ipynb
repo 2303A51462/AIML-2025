{
  "nbformat": 4,
  "nbformat_minor": 0,
  "metadata": {
    "colab": {
      "provenance": [],
      "authorship_tag": "ABX9TyMUyQ4o/4rqfZiGj3g/QKoh",
      "include_colab_link": true
    },
    "kernelspec": {
      "name": "python3",
      "display_name": "Python 3"
    },
    "language_info": {
      "name": "python"
    }
  },
  "cells": [
    {
      "cell_type": "markdown",
      "metadata": {
        "id": "view-in-github",
        "colab_type": "text"
      },
      "source": [
        "<a href=\"https://colab.research.google.com/github/2303A51462/AIML-2025/blob/main/Lab%3A02.ipynb\" target=\"_parent\"><img src=\"https://colab.research.google.com/assets/colab-badge.svg\" alt=\"Open In Colab\"/></a>"
      ]
    },
    {
      "cell_type": "markdown",
      "source": [
        "###Lab-02: Implement AI Search"
      ],
      "metadata": {
        "id": "SW7e14KJrUDV"
      }
    },
    {
      "cell_type": "markdown",
      "source": [
        "##Part-01:Implement Breadth First Search Algorithm"
      ],
      "metadata": {
        "id": "F9SvQpS4rrgr"
      }
    },
    {
      "cell_type": "code",
      "source": [
        "from queue import Queue\n",
        "graph= {0: [1, 2, 3],\n",
        "        1: [0, 2],\n",
        "        2: [1, 3, 5],\n",
        "        3: [0, 2, 4],\n",
        "        4: [3, 5, 7],\n",
        "        5: [2, 4, 6, 7],\n",
        "        6: [5, 7],\n",
        "        7: []}\n",
        "print(\"The adjacency List representing the graph is:\")\n",
        "print(graph)\n",
        "#logical implementation of Breadth First Search\n",
        "def bfs(graph, source):\n",
        "  Q=Queue()\n",
        "  visited_vertices=set()\n",
        "  Q.put(source)\n",
        "  visited_vertices.update({source})\n",
        "  while not Q.empty():\n",
        "        vertex = Q.get()\n",
        "        print(vertex, end=\"-->\")\n",
        "        for u in graph[vertex]:\n",
        "            if u not in visited_vertices:\n",
        "                Q.put(u)\n",
        "                visited_vertices.update({u})\n",
        "\n",
        "print(\"BFS traversal of graph with source 0 is:\")\n",
        "bfs(graph, 1)"
      ],
      "metadata": {
        "colab": {
          "base_uri": "https://localhost:8080/"
        },
        "id": "9rquZnKtsMfk",
        "outputId": "5196d744-bf8a-46da-d8a3-1e01b0392029"
      },
      "execution_count": 6,
      "outputs": [
        {
          "output_type": "stream",
          "name": "stdout",
          "text": [
            "The adjacency List representing the graph is:\n",
            "{0: [1, 2, 3], 1: [0, 2], 2: [1, 3, 5], 3: [0, 2, 4], 4: [3, 5, 7], 5: [2, 4, 6, 7], 6: [5, 7], 7: []}\n",
            "BFS traversal of graph with source 0 is:\n",
            "1-->0-->2-->3-->5-->4-->6-->7-->"
          ]
        }
      ]
    },
    {
      "cell_type": "markdown",
      "source": [
        "## Part-02:Implement Depth First Search Algorithm\n"
      ],
      "metadata": {
        "id": "Db_FXH10x8Rp"
      }
    },
    {
      "cell_type": "code",
      "source": [
        "graph1 = {\n",
        "    'A': ['B','C','G'],\n",
        "    'B': ['A'],\n",
        "    'C': ['A','D','F'],\n",
        "    'D': ['A','C','E','H'],\n",
        "    'E': ['D','H','F'],\n",
        "    'F': ['C','E'],\n",
        "    'G': ['A','D','H'],\n",
        "    'H': ['D','E','G']\n",
        "}\n",
        "def dfs(graph, node, visited):\n",
        "  if node not in visited:\n",
        "    visited.append(node)\n",
        "    for k in graph[node]:\n",
        "      dfs(graph, k, visited)\n",
        "  return visited\n",
        "visited = dfs(graph1,'A',[])\n",
        "print(visited)"
      ],
      "metadata": {
        "colab": {
          "base_uri": "https://localhost:8080/"
        },
        "id": "3Q4UYmhQzI26",
        "outputId": "47354e33-9525-437d-8704-40525d416e5d"
      },
      "execution_count": 5,
      "outputs": [
        {
          "output_type": "stream",
          "name": "stdout",
          "text": [
            "['A', 'B', 'C', 'D', 'E', 'H', 'G', 'F']\n"
          ]
        }
      ]
    },
    {
      "cell_type": "markdown",
      "source": [
        "##Part-03:Implementation of A*Algorithm/ OR Graph Search"
      ],
      "metadata": {
        "id": "RPMuwnte5dpq"
      }
    },
    {
      "cell_type": "code",
      "source": [
        "from copy import deepcopy\n",
        "import numpy as np\n",
        "import time\n"
      ],
      "metadata": {
        "id": "fsKD6KNm6Kp6"
      },
      "execution_count": null,
      "outputs": []
    }
  ]
}